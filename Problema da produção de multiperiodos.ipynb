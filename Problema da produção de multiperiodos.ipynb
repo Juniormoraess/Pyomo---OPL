{
  "nbformat": 4,
  "nbformat_minor": 0,
  "metadata": {
    "colab": {
      "name": "Problema da produção de multiperiodos.ipynb",
      "provenance": [],
      "collapsed_sections": [],
      "authorship_tag": "ABX9TyNTQVbhhTQKYAplhXfKj2FS",
      "include_colab_link": true
    },
    "kernelspec": {
      "name": "python3",
      "display_name": "Python 3"
    }
  },
  "cells": [
    {
      "cell_type": "markdown",
      "metadata": {
        "id": "view-in-github",
        "colab_type": "text"
      },
      "source": [
        "<a href=\"https://colab.research.google.com/github/Juniormoraess/Pyomo---OPL/blob/master/Problema%20da%20produ%C3%A7%C3%A3o%20de%20multiperiodos.ipynb\" target=\"_parent\"><img src=\"https://colab.research.google.com/assets/colab-badge.svg\" alt=\"Open In Colab\"/></a>"
      ]
    },
    {
      "cell_type": "code",
      "metadata": {
        "id": "IJ0GQ3AbJpPa",
        "colab_type": "code",
        "colab": {}
      },
      "source": [
        "## Instalação do pyomo e do solver para o colab ##\n",
        "!pip install -q pyomo\n",
        "!apt-get install -y -qq glpk-utils"
      ],
      "execution_count": 0,
      "outputs": []
    },
    {
      "cell_type": "code",
      "metadata": {
        "id": "ljE2Gk9-L6uS",
        "colab_type": "code",
        "colab": {}
      },
      "source": [
        "## Modelo matemático ##\n",
        "## Máx 50x1 + 45x2 + 55x3 + 48x4 + 52x5 + 50x6 + 8(e1 + e2 + e3 + e4 + e5 + e6) ##\n",
        "##                         ##\n",
        "## S.a  e0 + x1 - e1 = 100 ##\n",
        "##      e1 + x2 - e2 = 250 ##\n",
        "##      e2 + x2 - e3 = 190 ##\n",
        "##      e3 + x3 - e4 = 140 ##\n",
        "##      e4 + x4 - e5 = 220 ##\n",
        "##      e5 + x5 - e6 = 110 ##\n",
        "##      x1 + x2 + x3 + x4 + x5 + x6 = 1010 ##\n",
        "\n",
        "\n",
        "## Importando a biblioteca pyomo ##\n",
        "import pyomo.environ as pyEnv\n",
        "\n",
        "## Dados do problema ##\n",
        "custo_producao = [50, 45, 55, 48, 52, 50]\n",
        "custo_estoque = 8.0\n",
        "demanda = [100, 250, 190, 140, 220, 110]\n",
        "estoque_inicial = 0.0\n",
        "m = len(custo_producao)\n",
        "n = len(demanda)\n",
        "\n",
        "## Declarando o modelo através da biblioteca ##\n",
        "modelo = pyEnv.ConcreteModel()\n",
        "\n",
        "## Criando Indices ##\n",
        "modelo.Indices = pyEnv.RangeSet(1, m)\n",
        "modelo.Indices2 = pyEnv.RangeSet(0, n)\n",
        "\n",
        "## Criando as variáveis ##\n",
        "modelo.var_producao = pyEnv.Var(modelo.Indices, within = pyEnv.NonNegativeReals)\n",
        "modelo.var_estoque = pyEnv.Var(modelo.Indices2, within = pyEnv.NonNegativeReals)\n",
        "\n",
        "## Criando a Função Objetivo ##\n",
        "modelo.Objetivo = pyEnv.Objective(expr = sum(custo_producao[i-1]*modelo.var_producao[i] + custo_estoque*modelo.var_estoque[i-1] for i in modelo.Indices), sense = pyEnv.minimize)\n",
        "modelo.var_estoque[0] = estoque_inicial\n",
        "\n",
        "## Criando as restrições ##\n",
        "def rest1(modelo, i): \n",
        "  return modelo.var_estoque[i-1] + modelo.var_producao[i] - modelo.var_estoque[i] == demanda[i-1]\n",
        "\n",
        "modelo.rest = pyEnv.Constraint(modelo.Indices, rule = rest1)\n",
        "modelo.rest2 = pyEnv.Constraint(expr = sum(modelo.var_producao[i] for i in modelo.Indices) == sum(demanda[i-1] for i in modelo.Indices))\n",
        "\n",
        "## Chamando o Solver ##\n",
        "solver = pyEnv.SolverFactory('glpk', executable = '/usr/bin/glpsol')\n",
        "result_objetivo = solver.solve(modelo, tee = True)\n",
        "\n",
        "## Printando o resultado ##\n",
        "lista = list(modelo.var_producao.keys())\n",
        "lista2 = list(modelo.var_estoque.keys())\n",
        "print()\n",
        "print()\n",
        "print('Variaveis de produção: ')\n",
        "print()\n",
        "for i in lista:\n",
        "  print(i, '---', modelo.var_producao[i]())\n",
        "print()\n",
        "print('Variaveis de estoque: ')\n",
        "print()\n",
        "for i in lista2:\n",
        "  print(i, '---', modelo.var_estoque[i]())\n",
        "print()\n",
        "print('Valor da função objetivo =', modelo.Objetivo())\n"
      ],
      "execution_count": 0,
      "outputs": []
    }
  ]
}