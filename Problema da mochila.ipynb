{
  "nbformat": 4,
  "nbformat_minor": 0,
  "metadata": {
    "colab": {
      "name": "Problema da mochila.ipynb",
      "provenance": [],
      "collapsed_sections": [],
      "authorship_tag": "ABX9TyMJpSFwbciUaz65t67Vw4up",
      "include_colab_link": true
    },
    "kernelspec": {
      "name": "python3",
      "display_name": "Python 3"
    }
  },
  "cells": [
    {
      "cell_type": "markdown",
      "metadata": {
        "id": "view-in-github",
        "colab_type": "text"
      },
      "source": [
        "<a href=\"https://colab.research.google.com/github/Juniormoraess/Pyomo---OPL/blob/master/Problema%20da%20mochila.ipynb\" target=\"_parent\"><img src=\"https://colab.research.google.com/assets/colab-badge.svg\" alt=\"Open In Colab\"/></a>"
      ]
    },
    {
      "cell_type": "code",
      "metadata": {
        "id": "TSV5-sJn3yzD",
        "colab_type": "code",
        "colab": {}
      },
      "source": [
        "## Instalação do pyomo e do solver para o colab ##\n",
        "!pip install -q pyomo\n",
        "!apt-get install -y -qq glpk-utils"
      ],
      "execution_count": 0,
      "outputs": []
    },
    {
      "cell_type": "code",
      "metadata": {
        "id": "ECN0HDMH31zS",
        "colab_type": "code",
        "colab": {}
      },
      "source": [
        "## Modelo matemático ##\n",
        "## Máx 15x1 + 65x2 + 98x3 + 35x4 + 45x5 + 47x6 + 21X7 + 26x8 + 37x9 + 18x10 ##\n",
        "## S.a 17x1 + 55x2 + 61x3 + 37x4 + 77x5 + 41x6 + 22x7 + 26x8 + 34x9 + 10x10 <= 190 ##\n",
        "\n",
        "## Caso a implementação esteja sendo feita por uma IDE: ##\n",
        "## Abra o Anaconda Prompt e insira as seguintes chamadas: ##\n",
        "## conda install -c conda-forge pyomo ##\n",
        "## conda install -c conda-forge glpk ##\n",
        "\n",
        "## Importando a biblioteca pyomo ##\n",
        "import pyomo.environ as pyEnv\n",
        "\n",
        "## Dados do problema ##\n",
        "lucros = [15, 65, 98, 35, 45, 47, 21, 26, 37, 18]\n",
        "pesos = [17, 55, 61, 37, 77, 41, 22, 26, 34, 10]\n",
        "capacidade = 190\n",
        "m = len(lucros)\n",
        "\n",
        "## Declarando o modelo através da biblioteca ##\n",
        "modelo = pyEnv.ConcreteModel()\n",
        "\n",
        "## Criando Indices ##\n",
        "modelo.Indices = range(m)\n",
        "\n",
        "## Criando as variáveis ##\n",
        "modelo.Variaveis = pyEnv.Var(modelo.Indices, within = pyEnv.Binary)\n",
        "\n",
        "## Criando a Função Objetivo ##\n",
        "modelo.Objetivo = pyEnv.Objective(expr = sum(lucros[i]*modelo.Variaveis[i] for i in modelo.Indices), sense = pyEnv.maximize)\n",
        "\n",
        "## Criando as restrições ##\n",
        "modelo.Restricoes = pyEnv.Constraint(expr = sum(pesos[i]*modelo.Variaveis[i] for i in modelo.Indices) <= capacidade)\n",
        "\n",
        "## Chamando o Solver ##\n",
        "solver = pyEnv.SolverFactory('glpk', executable = '/usr/bin/glpsol')\n",
        "result_objetivo = solver.solve(modelo, tee = True)\n",
        "\n",
        "## Printando o resultado ##\n",
        "lista = list(modelo.Variaveis.keys())\n",
        "print()\n",
        "print()\n",
        "print('Variaveis: ')\n",
        "print()\n",
        "for i in lista:\n",
        "  print(i, '---', modelo.Variaveis[i]())\n",
        "print()\n",
        "print('Valor da função objetivo =', modelo.Objetivo())"
      ],
      "execution_count": 0,
      "outputs": []
    }
  ]
}