{
  "nbformat": 4,
  "nbformat_minor": 0,
  "metadata": {
    "colab": {
      "name": "Problema de fluxo de custo minimo.ipynb",
      "provenance": [],
      "collapsed_sections": [],
      "authorship_tag": "ABX9TyM47svA/8p0z/6jVkNGw36P",
      "include_colab_link": true
    },
    "kernelspec": {
      "name": "python3",
      "display_name": "Python 3"
    }
  },
  "cells": [
    {
      "cell_type": "markdown",
      "metadata": {
        "id": "view-in-github",
        "colab_type": "text"
      },
      "source": [
        "<a href=\"https://colab.research.google.com/github/Juniormoraess/Pyomo---OPL/blob/master/Problema%20de%20fluxo%20de%20custo%20minimo.ipynb\" target=\"_parent\"><img src=\"https://colab.research.google.com/assets/colab-badge.svg\" alt=\"Open In Colab\"/></a>"
      ]
    },
    {
      "cell_type": "code",
      "metadata": {
        "id": "0DCPNv3owkhb",
        "colab_type": "code",
        "colab": {}
      },
      "source": [
        "## Instalação do pyomo e do solver para o colab ##\n",
        "!pip install -q pyomo\n",
        "!apt-get install -y -qq glpk-utils"
      ],
      "execution_count": 0,
      "outputs": []
    },
    {
      "cell_type": "code",
      "metadata": {
        "id": "jA3ybhiDw4fI",
        "colab_type": "code",
        "colab": {}
      },
      "source": [
        "## Caso a implementação esteja sendo feita por uma IDE: ##\n",
        "## Abra o Anaconda Prompt e insira as seguintes chamadas: ##\n",
        "## conda install -c conda-forge pyomo ##\n",
        "## conda install -c conda-forge glpk ##\n",
        "\n",
        "## Importando a biblioteca pyomo ##\n",
        "import pyomo.environ as pyEnv\n",
        "\n",
        "## Dados do problema ##\n",
        "custos = [200, 900, 400, 300, 100, 300, 200]\n",
        "fluxos = [50, 40, 0, -30, -60]\n",
        "capacidades = [10, 0, 0, 0, 80, 0, 0]\n",
        "arestas = [[1, 1, 1, 0, 0, 0, 0],\n",
        "           [-1, 0, 0, 1, 0, 0, 0],\n",
        "           [0, 0, -1, -1, 1, 0, 0],\n",
        "           [0, -1, 0, 0, 0, 1, -1],\n",
        "           [0, 0, 0, 0, -1, -1, 1]]\n",
        "\n",
        "m = len(custos)\n",
        "n = len(fluxos)\n",
        "\n",
        "## Declarando o modelo através da biblioteca ##\n",
        "modelo = pyEnv.ConcreteModel()\n",
        "\n",
        "## Criando Indices ##\n",
        "modelo.Indices = range(m)\n",
        "modelo.Indices2 = range(n)\n",
        "\n",
        "## Criando as variáveis ##\n",
        "modelo.Variaveis = pyEnv.Var(modelo.Indices, within = pyEnv.NonNegativeReals)\n",
        "\n",
        "## Criando a Função Objetivo ##\n",
        "def Objetivo(modelo):\n",
        "  return sum(custos[i]*modelo.Variaveis[i] for i in modelo.Indices)\n",
        "\n",
        "modelo.Objetivo = pyEnv.Objective(rule = Objetivo, sense = pyEnv.minimize)\n",
        "\n",
        "## Criando as restrições ##\n",
        "def rest1(modelo, i):\n",
        "  return sum(arestas[i][j]*modelo.Variaveis[j] for j in modelo.Indices) == fluxos[i]\n",
        "\n",
        "def rest2(modelo, j):\n",
        "      if (capacidades[j] > 0):\n",
        "        return modelo.Variaveis[j] <= capacidades[j]\n",
        "      else:\n",
        "        return modelo.Variaveis[j] >= capacidades[j]\n",
        "      \n",
        "    \n",
        "modelo.rest1 = pyEnv.Constraint(modelo.Indices2, rule = rest1)\n",
        "modelo.rest2 = pyEnv.Constraint(modelo.Indices, rule = rest2)\n",
        "\n",
        "## Forma manual da rest2 ##\n",
        "##modelo.rest2 = pyEnv.Constraint(expr = (modelo.Variaveis[0] <= capacidades[0]))\n",
        "##modelo.rest3 = pyEnv.Constraint(expr = (modelo.Variaveis[4] <= capacidades[4]))\n",
        "\n",
        "## Chamando o Solver ##\n",
        "solver = pyEnv.SolverFactory('glpk', executable = '/usr/bin/glpsol')\n",
        "result_objetivo = solver.solve(modelo, tee = True)\n",
        "\n",
        "## Printando o resultado ##\n",
        "lista = list(modelo.Variaveis.keys())\n",
        "print()\n",
        "print()\n",
        "print('Variaveis: ')\n",
        "print()\n",
        "for i in lista:\n",
        "  print(i, '---', modelo.Variaveis[i]())\n",
        "print()\n",
        "print('Valor da função objetivo =', modelo.Objetivo())"
      ],
      "execution_count": 0,
      "outputs": []
    }
  ]
}